{
 "cells": [
  {
   "cell_type": "code",
   "execution_count": 1,
   "metadata": {},
   "outputs": [],
   "source": [
    "import numpy as np\n",
    "import scipy.stats as ss \n",
    "import pandas as pd\n",
    "import matplotlib.pyplot as plt\n",
    "%matplotlib inline"
   ]
  },
  {
   "cell_type": "code",
   "execution_count": 2,
   "metadata": {},
   "outputs": [],
   "source": [
    "x = [1,2,3,4,5,6,7,8,9,10]\n",
    "\n",
    "y = [1.1,1.9,3.2,4.2,5.1,6.1,6.8,7.9,9.3,11]"
   ]
  },
  {
   "cell_type": "code",
   "execution_count": 3,
   "metadata": {},
   "outputs": [
    {
     "data": {
      "image/png": "[encoded data removed]",
      "text/plain": [
       "<matplotlib.figure.Figure at 0x14ccbdd4cf8>"
      ]
     },
     "metadata": {},
     "output_type": "display_data"
    }
   ],
   "source": [
    "plt.scatter(x,y)\n",
    "plt.show()"
   ]
  },
  {
   "cell_type": "code",
   "execution_count": 4,
   "metadata": {},
   "outputs": [
    {
     "name": "stdout",
     "output_type": "stream",
     "text": [
      "[-0.49543369 -0.38533732 -0.27524094 -0.16514456 -0.05504819  0.05504819\n",
      "  0.16514456  0.27524094  0.38533732  0.49543369]\n"
     ]
    }
   ],
   "source": [
    "zx = ss.zscore(x,ddof=len(x)-1)\n",
    "print(zx)"
   ]
  },
  {
   "cell_type": "code",
   "execution_count": 5,
   "metadata": {},
   "outputs": [
    {
     "data": {
      "text/plain": [
       "array([-1.5666989 , -1.21854359, -0.87038828, -0.52223297, -0.17407766,\n",
       "        0.17407766,  0.52223297,  0.87038828,  1.21854359,  1.5666989 ])"
      ]
     },
     "execution_count": 5,
     "metadata": {},
     "output_type": "execute_result"
    }
   ],
   "source": [
    "ss.zscore(x)\n"
   ]
  },
  {
   "cell_type": "code",
   "execution_count": 6,
   "metadata": {},
   "outputs": [
    {
     "name": "stdout",
     "output_type": "stream",
     "text": [
      "[-0.47617951 -0.39263924 -0.25688631 -0.15246098 -0.05847819  0.04594715\n",
      "  0.11904488  0.23391274  0.3801082   0.55763127]\n"
     ]
    }
   ],
   "source": [
    "zy = ss.zscore(y,ddof=len(y)-1)\n",
    "print(zy)"
   ]
  },
  {
   "cell_type": "code",
   "execution_count": 7,
   "metadata": {},
   "outputs": [
    {
     "data": {
      "text/plain": [
       "0.99562725789043505"
      ]
     },
     "execution_count": 7,
     "metadata": {},
     "output_type": "execute_result"
    }
   ],
   "source": [
    "sum(zx*zy)\n"
   ]
  },
  {
   "cell_type": "code",
   "execution_count": 8,
   "metadata": {},
   "outputs": [
    {
     "data": {
      "text/plain": [
       "LinregressResult(slope=1.0496969696969698, intercept=-0.11333333333333417, rvalue=0.99562725789043538, pvalue=1.5911562116800061e-09, stderr=0.03482080587205541)"
      ]
     },
     "execution_count": 8,
     "metadata": {},
     "output_type": "execute_result"
    }
   ],
   "source": [
    "ss.linregress(x,y)"
   ]
  },
  {
   "cell_type": "code",
   "execution_count": 10,
   "metadata": {},
   "outputs": [],
   "source": []
  },
  {
   "cell_type": "code",
   "execution_count": 12,
   "metadata": {},
   "outputs": [
    {
     "data": {
      "image/png": "[encoded data removed]",
      "text/plain": [
       "<matplotlib.figure.Figure at 0x14ccf4c4ba8>"
      ]
     },
     "metadata": {},
     "output_type": "display_data"
    }
   ],
   "source": [
    "y1=np.array(x)*slope+inter\n",
    "plt.scatter(x,y)\n",
    "plt.plot(x,y1)\n",
    "plt.show()"
   ]
  },
  {
   "cell_type": "code",
   "execution_count": 13,
   "metadata": {},
   "outputs": [
    {
     "data": {
      "text/plain": [
       "array([ 0.16363636, -0.08606061,  0.16424242,  0.11454545, -0.03515152,\n",
       "       -0.08484848, -0.43454545, -0.38424242, -0.03393939,  0.61636364])"
      ]
     },
     "execution_count": 13,
     "metadata": {},
     "output_type": "execute_result"
    }
   ],
   "source": [
    "y-y1"
   ]
  },
  {
   "cell_type": "code",
   "execution_count": 14,
   "metadata": {},
   "outputs": [],
   "source": [
    "depth = np.arange(2000,14000,1000)\n",
    "\n",
    "pore = np.array([.346,.318,.292,.268,.246,.226,.208,.191,.175,.161,.148,.136])\n",
    "\n",
    "intTrans = np.array([153,140,132,126,118,120,112,106,102,103,93,96])\n",
    "\n",
    "matTrans = np.array([122,108,100,96,88,94,87,82,79,83,73,78])\n",
    "\n",
    "df = pd.DataFrame({'AveDepth':depth,'Porosity':pore,'IntervalTransitTime':intTrans,'MatrixTransitTime':matTrans})"
   ]
  },
  {
   "cell_type": "code",
   "execution_count": 15,
   "metadata": {},
   "outputs": [
    {
     "data": {
      "text/html": [
       "<div>\n",
       "<style>\n",
       "    .dataframe thead tr:only-child th {\n",
       "        text-align: right;\n",
       "    }\n",
       "\n",
       "    .dataframe thead th {\n",
       "        text-align: left;\n",
       "    }\n",
       "\n",
       "    .dataframe tbody tr th {\n",
       "        vertical-align: top;\n",
       "    }\n",
       "</style>\n",
       "<table border=\"1\" class=\"dataframe\">\n",
       "  <thead>\n",
       "    <tr style=\"text-align: right;\">\n",
       "      <th></th>\n",
       "      <th>AveDepth</th>\n",
       "      <th>IntervalTransitTime</th>\n",
       "      <th>MatrixTransitTime</th>\n",
       "      <th>Porosity</th>\n",
       "    </tr>\n",
       "  </thead>\n",
       "  <tbody>\n",
       "    <tr>\n",
       "      <th>0</th>\n",
       "      <td>2000</td>\n",
       "      <td>153</td>\n",
       "      <td>122</td>\n",
       "      <td>0.346</td>\n",
       "    </tr>\n",
       "    <tr>\n",
       "      <th>1</th>\n",
       "      <td>3000</td>\n",
       "      <td>140</td>\n",
       "      <td>108</td>\n",
       "      <td>0.318</td>\n",
       "    </tr>\n",
       "    <tr>\n",
       "      <th>2</th>\n",
       "      <td>4000</td>\n",
       "      <td>132</td>\n",
       "      <td>100</td>\n",
       "      <td>0.292</td>\n",
       "    </tr>\n",
       "    <tr>\n",
       "      <th>3</th>\n",
       "      <td>5000</td>\n",
       "      <td>126</td>\n",
       "      <td>96</td>\n",
       "      <td>0.268</td>\n",
       "    </tr>\n",
       "    <tr>\n",
       "      <th>4</th>\n",
       "      <td>6000</td>\n",
       "      <td>118</td>\n",
       "      <td>88</td>\n",
       "      <td>0.246</td>\n",
       "    </tr>\n",
       "    <tr>\n",
       "      <th>5</th>\n",
       "      <td>7000</td>\n",
       "      <td>120</td>\n",
       "      <td>94</td>\n",
       "      <td>0.226</td>\n",
       "    </tr>\n",
       "    <tr>\n",
       "      <th>6</th>\n",
       "      <td>8000</td>\n",
       "      <td>112</td>\n",
       "      <td>87</td>\n",
       "      <td>0.208</td>\n",
       "    </tr>\n",
       "    <tr>\n",
       "      <th>7</th>\n",
       "      <td>9000</td>\n",
       "      <td>106</td>\n",
       "      <td>82</td>\n",
       "      <td>0.191</td>\n",
       "    </tr>\n",
       "    <tr>\n",
       "      <th>8</th>\n",
       "      <td>10000</td>\n",
       "      <td>102</td>\n",
       "      <td>79</td>\n",
       "      <td>0.175</td>\n",
       "    </tr>\n",
       "    <tr>\n",
       "      <th>9</th>\n",
       "      <td>11000</td>\n",
       "      <td>103</td>\n",
       "      <td>83</td>\n",
       "      <td>0.161</td>\n",
       "    </tr>\n",
       "    <tr>\n",
       "      <th>10</th>\n",
       "      <td>12000</td>\n",
       "      <td>93</td>\n",
       "      <td>73</td>\n",
       "      <td>0.148</td>\n",
       "    </tr>\n",
       "    <tr>\n",
       "      <th>11</th>\n",
       "      <td>13000</td>\n",
       "      <td>96</td>\n",
       "      <td>78</td>\n",
       "      <td>0.136</td>\n",
       "    </tr>\n",
       "  </tbody>\n",
       "</table>\n",
       "</div>"
      ],
      "text/plain": [
       "    AveDepth  IntervalTransitTime  MatrixTransitTime  Porosity\n",
       "0       2000                  153                122     0.346\n",
       "1       3000                  140                108     0.318\n",
       "2       4000                  132                100     0.292\n",
       "3       5000                  126                 96     0.268\n",
       "4       6000                  118                 88     0.246\n",
       "5       7000                  120                 94     0.226\n",
       "6       8000                  112                 87     0.208\n",
       "7       9000                  106                 82     0.191\n",
       "8      10000                  102                 79     0.175\n",
       "9      11000                  103                 83     0.161\n",
       "10     12000                   93                 73     0.148\n",
       "11     13000                   96                 78     0.136"
      ]
     },
     "execution_count": 15,
     "metadata": {},
     "output_type": "execute_result"
    }
   ],
   "source": [
    "df"
   ]
  },
  {
   "cell_type": "code",
   "execution_count": 17,
   "metadata": {},
   "outputs": [
    {
     "data": {
      "image/png": "[encoded data removed]",
      "text/plain": [
       "<matplotlib.figure.Figure at 0x14ccfa2c588>"
      ]
     },
     "metadata": {},
     "output_type": "display_data"
    }
   ],
   "source": [
    "plt.scatter(df.Porosity,df.MatrixTransitTime)\n",
    "plt.xlabel('Porosity')\n",
    "plt.ylabel('Matrix Transit Time')\n",
    "plt.show()"
   ]
  },
  {
   "cell_type": "code",
   "execution_count": 19,
   "metadata": {},
   "outputs": [
    {
     "name": "stdout",
     "output_type": "stream",
     "text": [
      "194.860638498 46.7461138733 0.952989065663\n"
     ]
    }
   ],
   "source": [
    "[slope,inter,r,p,stderr]=ss.linregress(df.Porosity,df.MatrixTransitTime)\n",
    "print(slope,inter,r)"
   ]
  },
  {
   "cell_type": "code",
   "execution_count": 20,
   "metadata": {},
   "outputs": [
    {
     "data": {
      "text/plain": [
       "0.27329216683956592"
      ]
     },
     "execution_count": 20,
     "metadata": {},
     "output_type": "execute_result"
    }
   ],
   "source": [
    "por_100 = (100-inter)/slope\n",
    "por_100"
   ]
  },
  {
   "cell_type": "code",
   "execution_count": 21,
   "metadata": {},
   "outputs": [
    {
     "data": {
      "image/png": "[encoded data removed]",
      "text/plain": [
       "<matplotlib.figure.Figure at 0x14ccf966160>"
      ]
     },
     "metadata": {},
     "output_type": "display_data"
    }
   ],
   "source": [
    "y1=df.Porosity*slope+inter\n",
    "plt.scatter(df.Porosity,df.MatrixTransitTime)\n",
    "plt.plot(df.Porosity,y1)\n",
    "plt.xlabel('Porosity')\n",
    "plt.ylabel('Matrix Transit Time')\n",
    "plt.show()"
   ]
  },
  {
   "cell_type": "code",
   "execution_count": 22,
   "metadata": {},
   "outputs": [],
   "source": [
    "x = np.arange(1,11,1)\n",
    "\n",
    "y = np.array([0.2,0.3,0.5,0.5,1.3,2.3,2.9,4.5,8.7,12.])"
   ]
  },
  {
   "cell_type": "code",
   "execution_count": 24,
   "metadata": {},
   "outputs": [
    {
     "data": {
      "text/html": [
       "<div>\n",
       "<style>\n",
       "    .dataframe thead tr:only-child th {\n",
       "        text-align: right;\n",
       "    }\n",
       "\n",
       "    .dataframe thead th {\n",
       "        text-align: left;\n",
       "    }\n",
       "\n",
       "    .dataframe tbody tr th {\n",
       "        vertical-align: top;\n",
       "    }\n",
       "</style>\n",
       "<table border=\"1\" class=\"dataframe\">\n",
       "  <thead>\n",
       "    <tr style=\"text-align: right;\">\n",
       "      <th></th>\n",
       "      <th>x</th>\n",
       "      <th>y</th>\n",
       "    </tr>\n",
       "  </thead>\n",
       "  <tbody>\n",
       "    <tr>\n",
       "      <th>0</th>\n",
       "      <td>1</td>\n",
       "      <td>0.2</td>\n",
       "    </tr>\n",
       "    <tr>\n",
       "      <th>1</th>\n",
       "      <td>2</td>\n",
       "      <td>0.3</td>\n",
       "    </tr>\n",
       "    <tr>\n",
       "      <th>2</th>\n",
       "      <td>3</td>\n",
       "      <td>0.5</td>\n",
       "    </tr>\n",
       "    <tr>\n",
       "      <th>3</th>\n",
       "      <td>4</td>\n",
       "      <td>0.5</td>\n",
       "    </tr>\n",
       "    <tr>\n",
       "      <th>4</th>\n",
       "      <td>5</td>\n",
       "      <td>1.3</td>\n",
       "    </tr>\n",
       "    <tr>\n",
       "      <th>5</th>\n",
       "      <td>6</td>\n",
       "      <td>2.3</td>\n",
       "    </tr>\n",
       "    <tr>\n",
       "      <th>6</th>\n",
       "      <td>7</td>\n",
       "      <td>2.9</td>\n",
       "    </tr>\n",
       "    <tr>\n",
       "      <th>7</th>\n",
       "      <td>8</td>\n",
       "      <td>4.5</td>\n",
       "    </tr>\n",
       "    <tr>\n",
       "      <th>8</th>\n",
       "      <td>9</td>\n",
       "      <td>8.7</td>\n",
       "    </tr>\n",
       "    <tr>\n",
       "      <th>9</th>\n",
       "      <td>10</td>\n",
       "      <td>12.0</td>\n",
       "    </tr>\n",
       "  </tbody>\n",
       "</table>\n",
       "</div>"
      ],
      "text/plain": [
       "    x     y\n",
       "0   1   0.2\n",
       "1   2   0.3\n",
       "2   3   0.5\n",
       "3   4   0.5\n",
       "4   5   1.3\n",
       "5   6   2.3\n",
       "6   7   2.9\n",
       "7   8   4.5\n",
       "8   9   8.7\n",
       "9  10  12.0"
      ]
     },
     "execution_count": 24,
     "metadata": {},
     "output_type": "execute_result"
    }
   ],
   "source": [
    "df=pd.DataFrame({'x':x,'y':y})\n",
    "df"
   ]
  },
  {
   "cell_type": "code",
   "execution_count": 25,
   "metadata": {},
   "outputs": [
    {
     "data": {
      "image/png": "[encoded data removed]",
      "text/plain": [
       "<matplotlib.figure.Figure at 0x14ccf976978>"
      ]
     },
     "metadata": {},
     "output_type": "display_data"
    }
   ],
   "source": [
    "plt.scatter(df.x,df.y)\n",
    "plt.show()"
   ]
  },
  {
   "cell_type": "code",
   "execution_count": 26,
   "metadata": {},
   "outputs": [
    {
     "name": "stdout",
     "output_type": "stream",
     "text": [
      "2.14909090909\n"
     ]
    }
   ],
   "source": [
    "[m,b,r,p,err]=ss.linregress(df.x,df.y)\n",
    "xi=4.5\n",
    "yi=xi*m+b\n",
    "print(yi)"
   ]
  },
  {
   "cell_type": "code",
   "execution_count": 27,
   "metadata": {},
   "outputs": [
    {
     "data": {
      "image/png": "[encoded data removed]",
      "text/plain": [
       "<matplotlib.figure.Figure at 0x14ccfa56f60>"
      ]
     },
     "metadata": {},
     "output_type": "display_data"
    }
   ],
   "source": [
    "y1=df.x*m+b\n",
    "plt.scatter(x,y)\n",
    "plt.plot(x,y1)\n",
    "plt.xlabel('x')\n",
    "plt.ylabel('y')\n",
    "plt.show()"
   ]
  },
  {
   "cell_type": "code",
   "execution_count": 28,
   "metadata": {},
   "outputs": [
    {
     "data": {
      "text/plain": [
       "0.88098138002376625"
      ]
     },
     "execution_count": 28,
     "metadata": {},
     "output_type": "execute_result"
    }
   ],
   "source": [
    "r"
   ]
  },
  {
   "cell_type": "code",
   "execution_count": 29,
   "metadata": {},
   "outputs": [
    {
     "data": {
      "text/html": [
       "<div>\n",
       "<style>\n",
       "    .dataframe thead tr:only-child th {\n",
       "        text-align: right;\n",
       "    }\n",
       "\n",
       "    .dataframe thead th {\n",
       "        text-align: left;\n",
       "    }\n",
       "\n",
       "    .dataframe tbody tr th {\n",
       "        vertical-align: top;\n",
       "    }\n",
       "</style>\n",
       "<table border=\"1\" class=\"dataframe\">\n",
       "  <thead>\n",
       "    <tr style=\"text-align: right;\">\n",
       "      <th></th>\n",
       "      <th>x</th>\n",
       "      <th>y</th>\n",
       "      <th>z</th>\n",
       "    </tr>\n",
       "  </thead>\n",
       "  <tbody>\n",
       "    <tr>\n",
       "      <th>0</th>\n",
       "      <td>1</td>\n",
       "      <td>0.2</td>\n",
       "      <td>-1.609438</td>\n",
       "    </tr>\n",
       "    <tr>\n",
       "      <th>1</th>\n",
       "      <td>2</td>\n",
       "      <td>0.3</td>\n",
       "      <td>-1.203973</td>\n",
       "    </tr>\n",
       "    <tr>\n",
       "      <th>2</th>\n",
       "      <td>3</td>\n",
       "      <td>0.5</td>\n",
       "      <td>-0.693147</td>\n",
       "    </tr>\n",
       "    <tr>\n",
       "      <th>3</th>\n",
       "      <td>4</td>\n",
       "      <td>0.5</td>\n",
       "      <td>-0.693147</td>\n",
       "    </tr>\n",
       "    <tr>\n",
       "      <th>4</th>\n",
       "      <td>5</td>\n",
       "      <td>1.3</td>\n",
       "      <td>0.262364</td>\n",
       "    </tr>\n",
       "    <tr>\n",
       "      <th>5</th>\n",
       "      <td>6</td>\n",
       "      <td>2.3</td>\n",
       "      <td>0.832909</td>\n",
       "    </tr>\n",
       "    <tr>\n",
       "      <th>6</th>\n",
       "      <td>7</td>\n",
       "      <td>2.9</td>\n",
       "      <td>1.064711</td>\n",
       "    </tr>\n",
       "    <tr>\n",
       "      <th>7</th>\n",
       "      <td>8</td>\n",
       "      <td>4.5</td>\n",
       "      <td>1.504077</td>\n",
       "    </tr>\n",
       "    <tr>\n",
       "      <th>8</th>\n",
       "      <td>9</td>\n",
       "      <td>8.7</td>\n",
       "      <td>2.163323</td>\n",
       "    </tr>\n",
       "    <tr>\n",
       "      <th>9</th>\n",
       "      <td>10</td>\n",
       "      <td>12.0</td>\n",
       "      <td>2.484907</td>\n",
       "    </tr>\n",
       "  </tbody>\n",
       "</table>\n",
       "</div>"
      ],
      "text/plain": [
       "    x     y         z\n",
       "0   1   0.2 -1.609438\n",
       "1   2   0.3 -1.203973\n",
       "2   3   0.5 -0.693147\n",
       "3   4   0.5 -0.693147\n",
       "4   5   1.3  0.262364\n",
       "5   6   2.3  0.832909\n",
       "6   7   2.9  1.064711\n",
       "7   8   4.5  1.504077\n",
       "8   9   8.7  2.163323\n",
       "9  10  12.0  2.484907"
      ]
     },
     "execution_count": 29,
     "metadata": {},
     "output_type": "execute_result"
    }
   ],
   "source": [
    "df['z']=np.log(df.y)\n",
    "df"
   ]
  },
  {
   "cell_type": "code",
   "execution_count": 30,
   "metadata": {},
   "outputs": [
    {
     "data": {
      "image/png": "[encoded data removed]",
      "text/plain": [
       "<matplotlib.figure.Figure at 0x14cce269048>"
      ]
     },
     "metadata": {},
     "output_type": "display_data"
    }
   ],
   "source": [
    "plt.scatter(df.x,df.z)\n",
    "plt.show()\n"
   ]
  },
  {
   "cell_type": "code",
   "execution_count": 34,
   "metadata": {},
   "outputs": [
    {
     "data": {
      "image/png": "[encoded data removed]",
      "text/plain": [
       "<matplotlib.figure.Figure at 0x14cd03315f8>"
      ]
     },
     "metadata": {},
     "output_type": "display_data"
    }
   ],
   "source": [
    "[m,b,r,p,err]=ss.linregress(df.x,df.z)\n",
    "z1=df.x*m+b\n",
    "plt.scatter(df.x,df.z)\n",
    "plt.plot(df.x,z1)\n",
    "plt.xlabel('x')\n",
    "plt.ylabel('z')\n",
    "plt.legend(['data',r])\n",
    "plt.show()"
   ]
  },
  {
   "cell_type": "code",
   "execution_count": 35,
   "metadata": {},
   "outputs": [
    {
     "name": "stdout",
     "output_type": "stream",
     "text": [
      "0.468184323441 -2.16375516705\n"
     ]
    }
   ],
   "source": [
    "print(m,b)"
   ]
  },
  {
   "cell_type": "code",
   "execution_count": 36,
   "metadata": {},
   "outputs": [
    {
     "data": {
      "text/plain": [
       "0.94466424438662722"
      ]
     },
     "execution_count": 36,
     "metadata": {},
     "output_type": "execute_result"
    }
   ],
   "source": [
    "np.exp(xi*m+b)"
   ]
  },
  {
   "cell_type": "code",
   "execution_count": 37,
   "metadata": {},
   "outputs": [],
   "source": [
    "df = pd.DataFrame({'Temp_F':[155.7,199.4,269.1,331.9,408.9,454.6],'Vapor_Pressure':[14.7,29.4,73.5,147.0,293.9,435.]})\n",
    "\n"
   ]
  },
  {
   "cell_type": "code",
   "execution_count": 38,
   "metadata": {},
   "outputs": [
    {
     "data": {
      "text/html": [
       "<div>\n",
       "<style>\n",
       "    .dataframe thead tr:only-child th {\n",
       "        text-align: right;\n",
       "    }\n",
       "\n",
       "    .dataframe thead th {\n",
       "        text-align: left;\n",
       "    }\n",
       "\n",
       "    .dataframe tbody tr th {\n",
       "        vertical-align: top;\n",
       "    }\n",
       "</style>\n",
       "<table border=\"1\" class=\"dataframe\">\n",
       "  <thead>\n",
       "    <tr style=\"text-align: right;\">\n",
       "      <th></th>\n",
       "      <th>Temp_F</th>\n",
       "      <th>Vapor_Pressure</th>\n",
       "    </tr>\n",
       "  </thead>\n",
       "  <tbody>\n",
       "    <tr>\n",
       "      <th>0</th>\n",
       "      <td>155.7</td>\n",
       "      <td>14.7</td>\n",
       "    </tr>\n",
       "    <tr>\n",
       "      <th>1</th>\n",
       "      <td>199.4</td>\n",
       "      <td>29.4</td>\n",
       "    </tr>\n",
       "    <tr>\n",
       "      <th>2</th>\n",
       "      <td>269.1</td>\n",
       "      <td>73.5</td>\n",
       "    </tr>\n",
       "    <tr>\n",
       "      <th>3</th>\n",
       "      <td>331.9</td>\n",
       "      <td>147.0</td>\n",
       "    </tr>\n",
       "    <tr>\n",
       "      <th>4</th>\n",
       "      <td>408.9</td>\n",
       "      <td>293.9</td>\n",
       "    </tr>\n",
       "    <tr>\n",
       "      <th>5</th>\n",
       "      <td>454.6</td>\n",
       "      <td>435.0</td>\n",
       "    </tr>\n",
       "  </tbody>\n",
       "</table>\n",
       "</div>"
      ],
      "text/plain": [
       "   Temp_F  Vapor_Pressure\n",
       "0   155.7            14.7\n",
       "1   199.4            29.4\n",
       "2   269.1            73.5\n",
       "3   331.9           147.0\n",
       "4   408.9           293.9\n",
       "5   454.6           435.0"
      ]
     },
     "execution_count": 38,
     "metadata": {},
     "output_type": "execute_result"
    }
   ],
   "source": [
    "df"
   ]
  },
  {
   "cell_type": "code",
   "execution_count": 41,
   "metadata": {},
   "outputs": [
    {
     "data": {
      "image/png": "[encoded data removed]",
      "text/plain": [
       "<matplotlib.figure.Figure at 0x14cd03ffb70>"
      ]
     },
     "metadata": {},
     "output_type": "display_data"
    }
   ],
   "source": [
    "plt.scatter(df.Temp_F,df.Vapor_Pressure)\n",
    "plt.xlabel('Temperature')\n",
    "plt.ylabel('Vapor Pressure')\n",
    "plt.show()"
   ]
  },
  {
   "cell_type": "code",
   "execution_count": 42,
   "metadata": {},
   "outputs": [
    {
     "data": {
      "text/html": [
       "<div>\n",
       "<style>\n",
       "    .dataframe thead tr:only-child th {\n",
       "        text-align: right;\n",
       "    }\n",
       "\n",
       "    .dataframe thead th {\n",
       "        text-align: left;\n",
       "    }\n",
       "\n",
       "    .dataframe tbody tr th {\n",
       "        vertical-align: top;\n",
       "    }\n",
       "</style>\n",
       "<table border=\"1\" class=\"dataframe\">\n",
       "  <thead>\n",
       "    <tr style=\"text-align: right;\">\n",
       "      <th></th>\n",
       "      <th>Temp_F</th>\n",
       "      <th>Vapor_Pressure</th>\n",
       "      <th>Temp_R</th>\n",
       "    </tr>\n",
       "  </thead>\n",
       "  <tbody>\n",
       "    <tr>\n",
       "      <th>0</th>\n",
       "      <td>155.7</td>\n",
       "      <td>14.7</td>\n",
       "      <td>615.7</td>\n",
       "    </tr>\n",
       "    <tr>\n",
       "      <th>1</th>\n",
       "      <td>199.4</td>\n",
       "      <td>29.4</td>\n",
       "      <td>659.4</td>\n",
       "    </tr>\n",
       "    <tr>\n",
       "      <th>2</th>\n",
       "      <td>269.1</td>\n",
       "      <td>73.5</td>\n",
       "      <td>729.1</td>\n",
       "    </tr>\n",
       "    <tr>\n",
       "      <th>3</th>\n",
       "      <td>331.9</td>\n",
       "      <td>147.0</td>\n",
       "      <td>791.9</td>\n",
       "    </tr>\n",
       "    <tr>\n",
       "      <th>4</th>\n",
       "      <td>408.9</td>\n",
       "      <td>293.9</td>\n",
       "      <td>868.9</td>\n",
       "    </tr>\n",
       "    <tr>\n",
       "      <th>5</th>\n",
       "      <td>454.6</td>\n",
       "      <td>435.0</td>\n",
       "      <td>914.6</td>\n",
       "    </tr>\n",
       "  </tbody>\n",
       "</table>\n",
       "</div>"
      ],
      "text/plain": [
       "   Temp_F  Vapor_Pressure  Temp_R\n",
       "0   155.7            14.7   615.7\n",
       "1   199.4            29.4   659.4\n",
       "2   269.1            73.5   729.1\n",
       "3   331.9           147.0   791.9\n",
       "4   408.9           293.9   868.9\n",
       "5   454.6           435.0   914.6"
      ]
     },
     "execution_count": 42,
     "metadata": {},
     "output_type": "execute_result"
    }
   ],
   "source": [
    "df['Temp_R']=df.Temp_F+460\n",
    "df"
   ]
  },
  {
   "cell_type": "code",
   "execution_count": 43,
   "metadata": {},
   "outputs": [
    {
     "data": {
      "text/html": [
       "<div>\n",
       "<style>\n",
       "    .dataframe thead tr:only-child th {\n",
       "        text-align: right;\n",
       "    }\n",
       "\n",
       "    .dataframe thead th {\n",
       "        text-align: left;\n",
       "    }\n",
       "\n",
       "    .dataframe tbody tr th {\n",
       "        vertical-align: top;\n",
       "    }\n",
       "</style>\n",
       "<table border=\"1\" class=\"dataframe\">\n",
       "  <thead>\n",
       "    <tr style=\"text-align: right;\">\n",
       "      <th></th>\n",
       "      <th>Temp_F</th>\n",
       "      <th>Vapor_Pressure</th>\n",
       "      <th>Temp_R</th>\n",
       "      <th>inv_Temp_R</th>\n",
       "    </tr>\n",
       "  </thead>\n",
       "  <tbody>\n",
       "    <tr>\n",
       "      <th>0</th>\n",
       "      <td>155.7</td>\n",
       "      <td>14.7</td>\n",
       "      <td>615.7</td>\n",
       "      <td>0.001624</td>\n",
       "    </tr>\n",
       "    <tr>\n",
       "      <th>1</th>\n",
       "      <td>199.4</td>\n",
       "      <td>29.4</td>\n",
       "      <td>659.4</td>\n",
       "      <td>0.001517</td>\n",
       "    </tr>\n",
       "    <tr>\n",
       "      <th>2</th>\n",
       "      <td>269.1</td>\n",
       "      <td>73.5</td>\n",
       "      <td>729.1</td>\n",
       "      <td>0.001372</td>\n",
       "    </tr>\n",
       "    <tr>\n",
       "      <th>3</th>\n",
       "      <td>331.9</td>\n",
       "      <td>147.0</td>\n",
       "      <td>791.9</td>\n",
       "      <td>0.001263</td>\n",
       "    </tr>\n",
       "    <tr>\n",
       "      <th>4</th>\n",
       "      <td>408.9</td>\n",
       "      <td>293.9</td>\n",
       "      <td>868.9</td>\n",
       "      <td>0.001151</td>\n",
       "    </tr>\n",
       "    <tr>\n",
       "      <th>5</th>\n",
       "      <td>454.6</td>\n",
       "      <td>435.0</td>\n",
       "      <td>914.6</td>\n",
       "      <td>0.001093</td>\n",
       "    </tr>\n",
       "  </tbody>\n",
       "</table>\n",
       "</div>"
      ],
      "text/plain": [
       "   Temp_F  Vapor_Pressure  Temp_R  inv_Temp_R\n",
       "0   155.7            14.7   615.7    0.001624\n",
       "1   199.4            29.4   659.4    0.001517\n",
       "2   269.1            73.5   729.1    0.001372\n",
       "3   331.9           147.0   791.9    0.001263\n",
       "4   408.9           293.9   868.9    0.001151\n",
       "5   454.6           435.0   914.6    0.001093"
      ]
     },
     "execution_count": 43,
     "metadata": {},
     "output_type": "execute_result"
    }
   ],
   "source": [
    "df['inv_Temp_R']=1/df.Temp_R\n",
    "df"
   ]
  },
  {
   "cell_type": "code",
   "execution_count": 44,
   "metadata": {},
   "outputs": [
    {
     "data": {
      "text/html": [
       "<div>\n",
       "<style>\n",
       "    .dataframe thead tr:only-child th {\n",
       "        text-align: right;\n",
       "    }\n",
       "\n",
       "    .dataframe thead th {\n",
       "        text-align: left;\n",
       "    }\n",
       "\n",
       "    .dataframe tbody tr th {\n",
       "        vertical-align: top;\n",
       "    }\n",
       "</style>\n",
       "<table border=\"1\" class=\"dataframe\">\n",
       "  <thead>\n",
       "    <tr style=\"text-align: right;\">\n",
       "      <th></th>\n",
       "      <th>Temp_F</th>\n",
       "      <th>Vapor_Pressure</th>\n",
       "      <th>Temp_R</th>\n",
       "      <th>inv_Temp_R</th>\n",
       "      <th>log_Pv</th>\n",
       "    </tr>\n",
       "  </thead>\n",
       "  <tbody>\n",
       "    <tr>\n",
       "      <th>0</th>\n",
       "      <td>155.7</td>\n",
       "      <td>14.7</td>\n",
       "      <td>615.7</td>\n",
       "      <td>0.001624</td>\n",
       "      <td>2.687847</td>\n",
       "    </tr>\n",
       "    <tr>\n",
       "      <th>1</th>\n",
       "      <td>199.4</td>\n",
       "      <td>29.4</td>\n",
       "      <td>659.4</td>\n",
       "      <td>0.001517</td>\n",
       "      <td>3.380995</td>\n",
       "    </tr>\n",
       "    <tr>\n",
       "      <th>2</th>\n",
       "      <td>269.1</td>\n",
       "      <td>73.5</td>\n",
       "      <td>729.1</td>\n",
       "      <td>0.001372</td>\n",
       "      <td>4.297285</td>\n",
       "    </tr>\n",
       "    <tr>\n",
       "      <th>3</th>\n",
       "      <td>331.9</td>\n",
       "      <td>147.0</td>\n",
       "      <td>791.9</td>\n",
       "      <td>0.001263</td>\n",
       "      <td>4.990433</td>\n",
       "    </tr>\n",
       "    <tr>\n",
       "      <th>4</th>\n",
       "      <td>408.9</td>\n",
       "      <td>293.9</td>\n",
       "      <td>868.9</td>\n",
       "      <td>0.001151</td>\n",
       "      <td>5.683240</td>\n",
       "    </tr>\n",
       "    <tr>\n",
       "      <th>5</th>\n",
       "      <td>454.6</td>\n",
       "      <td>435.0</td>\n",
       "      <td>914.6</td>\n",
       "      <td>0.001093</td>\n",
       "      <td>6.075346</td>\n",
       "    </tr>\n",
       "  </tbody>\n",
       "</table>\n",
       "</div>"
      ],
      "text/plain": [
       "   Temp_F  Vapor_Pressure  Temp_R  inv_Temp_R    log_Pv\n",
       "0   155.7            14.7   615.7    0.001624  2.687847\n",
       "1   199.4            29.4   659.4    0.001517  3.380995\n",
       "2   269.1            73.5   729.1    0.001372  4.297285\n",
       "3   331.9           147.0   791.9    0.001263  4.990433\n",
       "4   408.9           293.9   868.9    0.001151  5.683240\n",
       "5   454.6           435.0   914.6    0.001093  6.075346"
      ]
     },
     "execution_count": 44,
     "metadata": {},
     "output_type": "execute_result"
    }
   ],
   "source": [
    "df['log_Pv']=np.log(df.Vapor_Pressure)\n",
    "df"
   ]
  },
  {
   "cell_type": "code",
   "execution_count": 45,
   "metadata": {},
   "outputs": [
    {
     "name": "stdout",
     "output_type": "stream",
     "text": [
      "-6354.28699304 13.0120048169 -0.999975960267\n"
     ]
    }
   ],
   "source": [
    "[m,b,r,p,err]=ss.linregress(df.inv_Temp_R,df.log_Pv)\n",
    "print(m,b,r)"
   ]
  },
  {
   "cell_type": "code",
   "execution_count": 46,
   "metadata": {},
   "outputs": [],
   "source": [
    "T=300+460"
   ]
  },
  {
   "cell_type": "code",
   "execution_count": 48,
   "metadata": {},
   "outputs": [
    {
     "data": {
      "text/plain": [
       "104.70018435637517"
      ]
     },
     "execution_count": 48,
     "metadata": {},
     "output_type": "execute_result"
    }
   ],
   "source": [
    "np.exp(m*(1/T)+b)"
   ]
  },
  {
   "cell_type": "code",
   "execution_count": 51,
   "metadata": {},
   "outputs": [],
   "source": [
    "time = np.array([0, 100, 200, 300, 400, 500, 600, 700, 800, 900, 1000, 1100, 1200, 1300, 1400, 1500, 1600, 1700, 1800, 1900, 2000,2100])\n",
    "\n",
    "rate = np.array([2000.0,1743.2,1690.6,1482.4,1404.6,1164.0,1029.7,949.0,829.0,777.6,739.8,697.6,605.3,456.9,401.7,453.3,483.7,270.6,295.9,348.3,303.1,299.5])"
   ]
  },
  {
   "cell_type": "code",
   "execution_count": 52,
   "metadata": {},
   "outputs": [],
   "source": [
    "df=pd.DataFrame({'time':time,'rate':rate})"
   ]
  },
  {
   "cell_type": "code",
   "execution_count": 53,
   "metadata": {},
   "outputs": [
    {
     "data": {
      "image/png": "[encoded data removed]",
      "text/plain": [
       "<matplotlib.figure.Figure at 0x14cd04598d0>"
      ]
     },
     "metadata": {},
     "output_type": "display_data"
    }
   ],
   "source": [
    "plt.scatter(df.time,df.rate)\n",
    "plt.plot(df.time,df.rate)\n",
    "plt.show()"
   ]
  },
  {
   "cell_type": "code",
   "execution_count": 56,
   "metadata": {},
   "outputs": [],
   "source": [
    "df['log_q_qi']=np.log(df.rate/max(df.rate))"
   ]
  },
  {
   "cell_type": "code",
   "execution_count": 57,
   "metadata": {},
   "outputs": [
    {
     "data": {
      "text/html": [
       "<div>\n",
       "<style>\n",
       "    .dataframe thead tr:only-child th {\n",
       "        text-align: right;\n",
       "    }\n",
       "\n",
       "    .dataframe thead th {\n",
       "        text-align: left;\n",
       "    }\n",
       "\n",
       "    .dataframe tbody tr th {\n",
       "        vertical-align: top;\n",
       "    }\n",
       "</style>\n",
       "<table border=\"1\" class=\"dataframe\">\n",
       "  <thead>\n",
       "    <tr style=\"text-align: right;\">\n",
       "      <th></th>\n",
       "      <th>rate</th>\n",
       "      <th>time</th>\n",
       "      <th>log_q_qi</th>\n",
       "    </tr>\n",
       "  </thead>\n",
       "  <tbody>\n",
       "    <tr>\n",
       "      <th>0</th>\n",
       "      <td>2000.0</td>\n",
       "      <td>0</td>\n",
       "      <td>0.000000</td>\n",
       "    </tr>\n",
       "    <tr>\n",
       "      <th>1</th>\n",
       "      <td>1743.2</td>\n",
       "      <td>100</td>\n",
       "      <td>-0.137425</td>\n",
       "    </tr>\n",
       "    <tr>\n",
       "      <th>2</th>\n",
       "      <td>1690.6</td>\n",
       "      <td>200</td>\n",
       "      <td>-0.168064</td>\n",
       "    </tr>\n",
       "    <tr>\n",
       "      <th>3</th>\n",
       "      <td>1482.4</td>\n",
       "      <td>300</td>\n",
       "      <td>-0.299485</td>\n",
       "    </tr>\n",
       "    <tr>\n",
       "      <th>4</th>\n",
       "      <td>1404.6</td>\n",
       "      <td>400</td>\n",
       "      <td>-0.353395</td>\n",
       "    </tr>\n",
       "    <tr>\n",
       "      <th>5</th>\n",
       "      <td>1164.0</td>\n",
       "      <td>500</td>\n",
       "      <td>-0.541285</td>\n",
       "    </tr>\n",
       "    <tr>\n",
       "      <th>6</th>\n",
       "      <td>1029.7</td>\n",
       "      <td>600</td>\n",
       "      <td>-0.663880</td>\n",
       "    </tr>\n",
       "    <tr>\n",
       "      <th>7</th>\n",
       "      <td>949.0</td>\n",
       "      <td>700</td>\n",
       "      <td>-0.745494</td>\n",
       "    </tr>\n",
       "    <tr>\n",
       "      <th>8</th>\n",
       "      <td>829.0</td>\n",
       "      <td>800</td>\n",
       "      <td>-0.880682</td>\n",
       "    </tr>\n",
       "    <tr>\n",
       "      <th>9</th>\n",
       "      <td>777.6</td>\n",
       "      <td>900</td>\n",
       "      <td>-0.944690</td>\n",
       "    </tr>\n",
       "    <tr>\n",
       "      <th>10</th>\n",
       "      <td>739.8</td>\n",
       "      <td>1000</td>\n",
       "      <td>-0.994523</td>\n",
       "    </tr>\n",
       "    <tr>\n",
       "      <th>11</th>\n",
       "      <td>697.6</td>\n",
       "      <td>1100</td>\n",
       "      <td>-1.053257</td>\n",
       "    </tr>\n",
       "    <tr>\n",
       "      <th>12</th>\n",
       "      <td>605.3</td>\n",
       "      <td>1200</td>\n",
       "      <td>-1.195178</td>\n",
       "    </tr>\n",
       "    <tr>\n",
       "      <th>13</th>\n",
       "      <td>456.9</td>\n",
       "      <td>1300</td>\n",
       "      <td>-1.476438</td>\n",
       "    </tr>\n",
       "    <tr>\n",
       "      <th>14</th>\n",
       "      <td>401.7</td>\n",
       "      <td>1400</td>\n",
       "      <td>-1.605197</td>\n",
       "    </tr>\n",
       "    <tr>\n",
       "      <th>15</th>\n",
       "      <td>453.3</td>\n",
       "      <td>1500</td>\n",
       "      <td>-1.484348</td>\n",
       "    </tr>\n",
       "    <tr>\n",
       "      <th>16</th>\n",
       "      <td>483.7</td>\n",
       "      <td>1600</td>\n",
       "      <td>-1.419438</td>\n",
       "    </tr>\n",
       "    <tr>\n",
       "      <th>17</th>\n",
       "      <td>270.6</td>\n",
       "      <td>1700</td>\n",
       "      <td>-2.000261</td>\n",
       "    </tr>\n",
       "    <tr>\n",
       "      <th>18</th>\n",
       "      <td>295.9</td>\n",
       "      <td>1800</td>\n",
       "      <td>-1.910881</td>\n",
       "    </tr>\n",
       "    <tr>\n",
       "      <th>19</th>\n",
       "      <td>348.3</td>\n",
       "      <td>1900</td>\n",
       "      <td>-1.747838</td>\n",
       "    </tr>\n",
       "    <tr>\n",
       "      <th>20</th>\n",
       "      <td>303.1</td>\n",
       "      <td>2000</td>\n",
       "      <td>-1.886840</td>\n",
       "    </tr>\n",
       "    <tr>\n",
       "      <th>21</th>\n",
       "      <td>299.5</td>\n",
       "      <td>2100</td>\n",
       "      <td>-1.898788</td>\n",
       "    </tr>\n",
       "  </tbody>\n",
       "</table>\n",
       "</div>"
      ],
      "text/plain": [
       "      rate  time  log_q_qi\n",
       "0   2000.0     0  0.000000\n",
       "1   1743.2   100 -0.137425\n",
       "2   1690.6   200 -0.168064\n",
       "3   1482.4   300 -0.299485\n",
       "4   1404.6   400 -0.353395\n",
       "5   1164.0   500 -0.541285\n",
       "6   1029.7   600 -0.663880\n",
       "7    949.0   700 -0.745494\n",
       "8    829.0   800 -0.880682\n",
       "9    777.6   900 -0.944690\n",
       "10   739.8  1000 -0.994523\n",
       "11   697.6  1100 -1.053257\n",
       "12   605.3  1200 -1.195178\n",
       "13   456.9  1300 -1.476438\n",
       "14   401.7  1400 -1.605197\n",
       "15   453.3  1500 -1.484348\n",
       "16   483.7  1600 -1.419438\n",
       "17   270.6  1700 -2.000261\n",
       "18   295.9  1800 -1.910881\n",
       "19   348.3  1900 -1.747838\n",
       "20   303.1  2000 -1.886840\n",
       "21   299.5  2100 -1.898788"
      ]
     },
     "execution_count": 57,
     "metadata": {},
     "output_type": "execute_result"
    }
   ],
   "source": [
    "df"
   ]
  },
  {
   "cell_type": "code",
   "execution_count": 59,
   "metadata": {},
   "outputs": [
    {
     "name": "stdout",
     "output_type": "stream",
     "text": [
      "-0.000973464710415 -0.0418340642906 -0.982723083284\n"
     ]
    }
   ],
   "source": [
    "[m,b,r,p,err]=ss.linregress(df.time,df.log_q_qi)\n",
    "print(m,b,r)"
   ]
  },
  {
   "cell_type": "code",
   "execution_count": null,
   "metadata": {},
   "outputs": [],
   "source": []
  }
 ],
 "metadata": {
  "kernelspec": {
   "display_name": "Python 3",
   "language": "python",
   "name": "python3"
  },
  "language_info": {
   "codemirror_mode": {
    "name": "ipython",
    "version": 3
   },
   "file_extension": ".py",
   "mimetype": "text/x-python",
   "name": "python",
   "nbconvert_exporter": "python",
   "pygments_lexer": "ipython3",
   "version": "3.6.3"
  }
 },
 "nbformat": 4,
 "nbformat_minor": 2
}
