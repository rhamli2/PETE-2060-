{
 "cells": [
  {
   "cell_type": "markdown",
   "metadata": {},
   "source": [
    "## 2-22"
   ]
  },
  {
   "cell_type": "code",
   "execution_count": 44,
   "metadata": {},
   "outputs": [],
   "source": [
    "import numpy as np\n",
    "import seaborn as sns\n",
    "import pandas as pd\n",
    "import matplotlib.pyplot as plt\n",
    "import scipy. stats as ss\n",
    "%matplotlib inline"
   ]
  },
  {
   "cell_type": "markdown",
   "metadata": {},
   "source": [
    "## Distribution and Hypothesis Testing"
   ]
  },
  {
   "cell_type": "code",
   "execution_count": 45,
   "metadata": {},
   "outputs": [],
   "source": [
    "mean=3.5\n",
    "sd=.76"
   ]
  },
  {
   "cell_type": "code",
   "execution_count": 46,
   "metadata": {},
   "outputs": [],
   "source": [
    "nd=ss.norm(mean,sd)"
   ]
  },
  {
   "cell_type": "code",
   "execution_count": 47,
   "metadata": {},
   "outputs": [
    {
     "data": {
      "text/plain": [
       "<scipy.stats._distn_infrastructure.rv_frozen at 0x1f555843240>"
      ]
     },
     "execution_count": 47,
     "metadata": {},
     "output_type": "execute_result"
    }
   ],
   "source": [
    "nd"
   ]
  },
  {
   "cell_type": "code",
   "execution_count": 48,
   "metadata": {},
   "outputs": [],
   "source": [
    "X=2.6"
   ]
  },
  {
   "cell_type": "code",
   "execution_count": 49,
   "metadata": {},
   "outputs": [
    {
     "data": {
      "text/plain": [
       "0.23632973631439835"
      ]
     },
     "execution_count": 49,
     "metadata": {},
     "output_type": "execute_result"
    }
   ],
   "source": [
    "2*nd.cdf(X)"
   ]
  },
  {
   "cell_type": "code",
   "execution_count": 50,
   "metadata": {},
   "outputs": [
    {
     "data": {
      "text/plain": [
       "7.9014917775632523e-05"
      ]
     },
     "execution_count": 50,
     "metadata": {},
     "output_type": "execute_result"
    }
   ],
   "source": [
    "2*nd.cdf(.5)"
   ]
  },
  {
   "cell_type": "code",
   "execution_count": 51,
   "metadata": {},
   "outputs": [],
   "source": [
    "def two_tails_plot(nd,X,mean,sd):\n",
    "\n",
    "    \n",
    "\n",
    "    x = np.linspace(mean-4*sd, mean+4*sd, 5000)\n",
    "\n",
    "    y_cdf = ss.norm.pdf(x,3.5, 0.76)\n",
    "\n",
    "    plt.plot(x, y_cdf, label='cdf')\n",
    "\n",
    "    if X < mean:\n",
    "\n",
    "        lo = mean-4*sd\n",
    "\n",
    "        hi = X\n",
    "\n",
    "        lo2 = (mean-X)+mean\n",
    "\n",
    "        hi2 = mean+4*sd\n",
    "\n",
    "    else:\n",
    "\n",
    "        lo = mean-4*sd\n",
    "\n",
    "        hi = (mean-X)+mean\n",
    "\n",
    "        lo2 = X\n",
    "\n",
    "        hi2 = mean+4*sd\n",
    "\n",
    "    x = np.linspace(lo, hi, 5000)\n",
    "\n",
    "    x2 = np.linspace(lo2, hi2, 5000)\n",
    "\n",
    "    plt.fill_between(x, nd.pdf(x), y2=0, where= x >= lo , \\\n",
    "\n",
    "                     interpolate=False, \\\n",
    "\n",
    "                     color='blue', alpha = 0.2)\n",
    "\n",
    "    plt.fill_between(x2, nd.pdf(x2), y2=0, where= x2 >= lo2 , \\\n",
    "\n",
    "                     interpolate=False, \\\n",
    "\n",
    "                     color='blue', alpha = 0.2)"
   ]
  },
  {
   "cell_type": "code",
   "execution_count": 52,
   "metadata": {},
   "outputs": [
    {
     "data": {
      "image/png": "[encoded data removed]",
      "text/plain": [
       "<matplotlib.figure.Figure at 0x1f555977358>"
      ]
     },
     "metadata": {},
     "output_type": "display_data"
    }
   ],
   "source": [
    "two_tails_plot(nd,X,mean,sd)"
   ]
  },
  {
   "cell_type": "markdown",
   "metadata": {},
   "source": [
    "# One Sided Test"
   ]
  },
  {
   "cell_type": "code",
   "execution_count": 53,
   "metadata": {},
   "outputs": [],
   "source": [
    "#n=50 (copper Wires)\n",
    "#m=1.03m Ohm\n",
    "#o=.1m Ohm\n",
    "#H0=m<=1\n",
    "#H1=m>1"
   ]
  },
  {
   "cell_type": "code",
   "execution_count": 54,
   "metadata": {},
   "outputs": [],
   "source": [
    "mean=1.03\n",
    "sd=.1\n",
    "nd=ss.norm(mean,sd)\n",
    "X=1.\n",
    "n=50"
   ]
  },
  {
   "cell_type": "code",
   "execution_count": 55,
   "metadata": {},
   "outputs": [],
   "source": [
    "z=(X-mean)/(sd/np.sqrt(n))"
   ]
  },
  {
   "cell_type": "code",
   "execution_count": 56,
   "metadata": {},
   "outputs": [
    {
     "name": "stdout",
     "output_type": "stream",
     "text": [
      "-2.12132034356\n"
     ]
    }
   ],
   "source": [
    "print(z)"
   ]
  },
  {
   "cell_type": "code",
   "execution_count": 57,
   "metadata": {},
   "outputs": [
    {
     "data": {
      "text/plain": [
       "0.01694742676234454"
      ]
     },
     "execution_count": 57,
     "metadata": {},
     "output_type": "execute_result"
    }
   ],
   "source": [
    "ss.norm.cdf(z)"
   ]
  },
  {
   "cell_type": "markdown",
   "metadata": {},
   "source": [
    "# Student T Test\n",
    "Measuring the thickness of a steel plate"
   ]
  },
  {
   "cell_type": "code",
   "execution_count": 58,
   "metadata": {},
   "outputs": [],
   "source": [
    "x=np.array([1.316,1.308,1.321,1.303,1.311,1.310])"
   ]
  },
  {
   "cell_type": "code",
   "execution_count": 59,
   "metadata": {},
   "outputs": [
    {
     "data": {
      "text/plain": [
       "{'boxes': [<matplotlib.lines.Line2D at 0x1f555c21780>],\n",
       " 'caps': [<matplotlib.lines.Line2D at 0x1f555c2a2e8>,\n",
       "  <matplotlib.lines.Line2D at 0x1f555c2a748>],\n",
       " 'fliers': [<matplotlib.lines.Line2D at 0x1f555c31048>],\n",
       " 'means': [],\n",
       " 'medians': [<matplotlib.lines.Line2D at 0x1f555c2aba8>],\n",
       " 'whiskers': [<matplotlib.lines.Line2D at 0x1f555c21908>,\n",
       "  <matplotlib.lines.Line2D at 0x1f555c21e48>]}"
      ]
     },
     "execution_count": 59,
     "metadata": {},
     "output_type": "execute_result"
    },
    {
     "data": {
      "image/png": "[encoded data removed]",
      "text/plain": [
       "<matplotlib.figure.Figure at 0x1f555bd8390>"
      ]
     },
     "metadata": {},
     "output_type": "display_data"
    }
   ],
   "source": [
    "plt.boxplot(x)"
   ]
  },
  {
   "cell_type": "code",
   "execution_count": 60,
   "metadata": {},
   "outputs": [
    {
     "name": "stdout",
     "output_type": "stream",
     "text": [
      "1.3115 0.00573730482602\n"
     ]
    }
   ],
   "source": [
    "mean=np.mean(x)\n",
    "sd=np.std(x)\n",
    "print(mean,sd)"
   ]
  },
  {
   "cell_type": "code",
   "execution_count": 61,
   "metadata": {},
   "outputs": [],
   "source": [
    "df=len(x)-1"
   ]
  },
  {
   "cell_type": "code",
   "execution_count": 62,
   "metadata": {},
   "outputs": [],
   "source": [
    "alpha=.99"
   ]
  },
  {
   "cell_type": "code",
   "execution_count": 63,
   "metadata": {},
   "outputs": [
    {
     "data": {
      "text/plain": [
       "(-4.0295771828378131, 4.0347087842772593)"
      ]
     },
     "execution_count": 63,
     "metadata": {},
     "output_type": "execute_result"
    }
   ],
   "source": [
    "ss.t.interval(alpha,df,ss.sem(x))"
   ]
  },
  {
   "cell_type": "code",
   "execution_count": 64,
   "metadata": {},
   "outputs": [],
   "source": [
    "x=np.array([1.316,1.308,1.321,1.303,1.311,1.310,.05])"
   ]
  },
  {
   "cell_type": "code",
   "execution_count": 65,
   "metadata": {},
   "outputs": [
    {
     "data": {
      "text/plain": [
       "{'boxes': [<matplotlib.lines.Line2D at 0x1f555c8a518>],\n",
       " 'caps': [<matplotlib.lines.Line2D at 0x1f555c92048>,\n",
       "  <matplotlib.lines.Line2D at 0x1f555c924a8>],\n",
       " 'fliers': [<matplotlib.lines.Line2D at 0x1f555c92d68>],\n",
       " 'means': [],\n",
       " 'medians': [<matplotlib.lines.Line2D at 0x1f555c92908>],\n",
       " 'whiskers': [<matplotlib.lines.Line2D at 0x1f555c8a668>,\n",
       "  <matplotlib.lines.Line2D at 0x1f555c8aba8>]}"
      ]
     },
     "execution_count": 65,
     "metadata": {},
     "output_type": "execute_result"
    },
    {
     "data": {
      "image/png": "[encoded data removed]",
      "text/plain": [
       "<matplotlib.figure.Figure at 0x1f555bfb470>"
      ]
     },
     "metadata": {},
     "output_type": "display_data"
    }
   ],
   "source": [
    "plt.boxplot(x)"
   ]
  },
  {
   "cell_type": "code",
   "execution_count": 66,
   "metadata": {},
   "outputs": [],
   "source": [
    "#bc added a number so out of it(.05)"
   ]
  },
  {
   "cell_type": "code",
   "execution_count": 67,
   "metadata": {},
   "outputs": [],
   "source": [
    "x=np.array([1.316,1.308,1.321,1.303,1.311,1.310,1.41])"
   ]
  },
  {
   "cell_type": "code",
   "execution_count": 68,
   "metadata": {},
   "outputs": [
    {
     "data": {
      "text/plain": [
       "{'boxes': [<matplotlib.lines.Line2D at 0x1f555ce6e48>],\n",
       " 'caps': [<matplotlib.lines.Line2D at 0x1f555cee9b0>,\n",
       "  <matplotlib.lines.Line2D at 0x1f555ceee10>],\n",
       " 'fliers': [<matplotlib.lines.Line2D at 0x1f555cf8710>],\n",
       " 'means': [],\n",
       " 'medians': [<matplotlib.lines.Line2D at 0x1f555cf82b0>],\n",
       " 'whiskers': [<matplotlib.lines.Line2D at 0x1f555ce6fd0>,\n",
       "  <matplotlib.lines.Line2D at 0x1f555cee550>]}"
      ]
     },
     "execution_count": 68,
     "metadata": {},
     "output_type": "execute_result"
    },
    {
     "data": {
      "image/png": "[encoded data removed]",
      "text/plain": [
       "<matplotlib.figure.Figure at 0x1f555ca3ba8>"
      ]
     },
     "metadata": {},
     "output_type": "display_data"
    }
   ],
   "source": [
    "plt.boxplot(x)"
   ]
  },
  {
   "cell_type": "code",
   "execution_count": 69,
   "metadata": {},
   "outputs": [],
   "source": [
    "#still kinda too far\n"
   ]
  },
  {
   "cell_type": "markdown",
   "metadata": {},
   "source": [
    "# Example"
   ]
  },
  {
   "cell_type": "code",
   "execution_count": 72,
   "metadata": {},
   "outputs": [],
   "source": [
    "n=85 #51 left 34 Right\n",
    "#find 90% confidence integral for the leg knee\n",
    "x=51\n",
    "p=round((x/n)*100,4)"
   ]
  },
  {
   "cell_type": "code",
   "execution_count": 73,
   "metadata": {},
   "outputs": [
    {
     "data": {
      "text/plain": [
       "60.0"
      ]
     },
     "execution_count": 73,
     "metadata": {},
     "output_type": "execute_result"
    }
   ],
   "source": [
    "p"
   ]
  },
  {
   "cell_type": "code",
   "execution_count": 75,
   "metadata": {},
   "outputs": [
    {
     "data": {
      "text/plain": [
       "(0.50510058337622998, 0.67847109905462011)"
      ]
     },
     "execution_count": 75,
     "metadata": {},
     "output_type": "execute_result"
    }
   ],
   "source": [
    "alpha=.9\n",
    "ss.beta.interval(alpha,x,n-x+1)"
   ]
  },
  {
   "cell_type": "code",
   "execution_count": 80,
   "metadata": {},
   "outputs": [
    {
     "ename": "SyntaxError",
     "evalue": "invalid syntax (<ipython-input-80-c7a8d754c143>, line 9)",
     "output_type": "error",
     "traceback": [
      "\u001b[1;36m  File \u001b[1;32m\"<ipython-input-80-c7a8d754c143>\"\u001b[1;36m, line \u001b[1;32m9\u001b[0m\n\u001b[1;33m    return=np.array([p_hat-ci,p_hat+ci])\u001b[0m\n\u001b[1;37m          ^\u001b[0m\n\u001b[1;31mSyntaxError\u001b[0m\u001b[1;31m:\u001b[0m invalid syntax\n"
     ]
    }
   ],
   "source": [
    "def binom_CI(n,x,alpha):\n",
    "    n_hat=n+4\n",
    "    p_hat=(x+2)/n_hat\n",
    "\n",
    "    z=ss.norm.ppf(1-alpha/2)\n",
    "\n",
    "    ci=z*np.sqrt(p_hat*(1-p_hat)/n_hat))\n",
    "    \n",
    "    return=np.array([p_hat-ci,p_hat+ci])"
   ]
  },
  {
   "cell_type": "code",
   "execution_count": 79,
   "metadata": {},
   "outputs": [
    {
     "ename": "SyntaxError",
     "evalue": "invalid syntax (<ipython-input-79-926ee16e2128>, line 1)",
     "output_type": "error",
     "traceback": [
      "\u001b[1;36m  File \u001b[1;32m\"<ipython-input-79-926ee16e2128>\"\u001b[1;36m, line \u001b[1;32m1\u001b[0m\n\u001b[1;33m    binom ci(85,51,.1)\u001b[0m\n\u001b[1;37m           ^\u001b[0m\n\u001b[1;31mSyntaxError\u001b[0m\u001b[1;31m:\u001b[0m invalid syntax\n"
     ]
    }
   ],
   "source": [
    "binom ci(85,51,.1)"
   ]
  },
  {
   "cell_type": "code",
   "execution_count": null,
   "metadata": {},
   "outputs": [],
   "source": []
  }
 ],
 "metadata": {
  "kernelspec": {
   "display_name": "Python 3",
   "language": "python",
   "name": "python3"
  },
  "language_info": {
   "codemirror_mode": {
    "name": "ipython",
    "version": 3
   },
   "file_extension": ".py",
   "mimetype": "text/x-python",
   "name": "python",
   "nbconvert_exporter": "python",
   "pygments_lexer": "ipython3",
   "version": "3.6.3"
  }
 },
 "nbformat": 4,
 "nbformat_minor": 2
}
