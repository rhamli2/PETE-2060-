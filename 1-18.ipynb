{
 "cells": [
  {
   "cell_type": "markdown",
   "metadata": {},
   "source": [
    "# Lab 2"
   ]
  },
  {
   "cell_type": "code",
   "execution_count": 1,
   "metadata": {},
   "outputs": [
    {
     "name": "stdout",
     "output_type": "stream",
     "text": [
      "Robert Hamlin III\n",
      "368 Lake Breeze Dr\n",
      "Baton Rouge, LA 70820\n"
     ]
    }
   ],
   "source": [
    "## Exercise 1: Address\n",
    "\n",
    "print('Robert Hamlin III')\n",
    "print('368 Lake Breeze Dr')\n",
    "print('Baton Rouge, LA 70820')\n"
   ]
  },
  {
   "cell_type": "code",
   "execution_count": 2,
   "metadata": {},
   "outputs": [
    {
     "name": "stdout",
     "output_type": "stream",
     "text": [
      "Robert Hamlin \r",
      "368 Lake Breeze Dr. \r",
      "Baton Rouge, LA 70820 \n"
     ]
    }
   ],
   "source": [
    "print('Robert Hamlin \\r368 Lake Breeze Dr. \\rBaton Rouge, LA 70820 ')"
   ]
  },
  {
   "cell_type": "code",
   "execution_count": 3,
   "metadata": {},
   "outputs": [
    {
     "name": "stdout",
     "output_type": "stream",
     "text": [
      "Hello THOR!\n"
     ]
    }
   ],
   "source": [
    "##Exercise 2: Hello User\n",
    "\n",
    "\n",
    "name= input('Input your name:')\n",
    "print('Hello '+name+'!')\n",
    "\n"
   ]
  },
  {
   "cell_type": "code",
   "execution_count": 4,
   "metadata": {},
   "outputs": [
    {
     "data": {
      "text/plain": [
       "'Sit THOR!'"
      ]
     },
     "execution_count": 4,
     "metadata": {},
     "output_type": "execute_result"
    }
   ],
   "source": [
    "'Sit '+name+'!'"
   ]
  },
  {
   "cell_type": "code",
   "execution_count": 5,
   "metadata": {},
   "outputs": [
    {
     "data": {
      "text/plain": [
       "str"
      ]
     },
     "execution_count": 5,
     "metadata": {},
     "output_type": "execute_result"
    }
   ],
   "source": [
    "type(name)"
   ]
  },
  {
   "cell_type": "code",
   "execution_count": 6,
   "metadata": {},
   "outputs": [
    {
     "data": {
      "text/plain": [
       "'THOR'"
      ]
     },
     "execution_count": 6,
     "metadata": {},
     "output_type": "execute_result"
    }
   ],
   "source": [
    "name"
   ]
  },
  {
   "cell_type": "code",
   "execution_count": 7,
   "metadata": {},
   "outputs": [
    {
     "data": {
      "text/plain": [
       "'THORTHOR'"
      ]
     },
     "execution_count": 7,
     "metadata": {},
     "output_type": "execute_result"
    }
   ],
   "source": [
    "2*name"
   ]
  },
  {
   "cell_type": "code",
   "execution_count": 8,
   "metadata": {},
   "outputs": [
    {
     "name": "stdout",
     "output_type": "stream",
     "text": [
      "The Area of the room is 81.0 square meters\n"
     ]
    }
   ],
   "source": [
    "##Exercise 3: Area of a Room\n",
    "\n",
    "Length = float(input('Length of room in meters:'))\n",
    "Width = float(input('Width of room in meter:'))\n",
    "Area=Length*Width\n",
    "print('The Area of the room is', Area, 'square meters')"
   ]
  },
  {
   "cell_type": "markdown",
   "metadata": {},
   "source": [
    "area(L,W)\n",
    "area=L*W"
   ]
  },
  {
   "cell_type": "code",
   "execution_count": 9,
   "metadata": {},
   "outputs": [],
   "source": [
    "def area(Length,Width):\n",
    "    area=Length*Width\n",
    "    return area"
   ]
  },
  {
   "cell_type": "code",
   "execution_count": 10,
   "metadata": {},
   "outputs": [
    {
     "data": {
      "text/plain": [
       "81.0"
      ]
     },
     "execution_count": 10,
     "metadata": {},
     "output_type": "execute_result"
    }
   ],
   "source": [
    "area(Length,Width)"
   ]
  },
  {
   "cell_type": "raw",
   "metadata": {},
   "source": []
  },
  {
   "cell_type": "code",
   "execution_count": 11,
   "metadata": {},
   "outputs": [
    {
     "data": {
      "text/plain": [
       "1"
      ]
     },
     "execution_count": 11,
     "metadata": {},
     "output_type": "execute_result"
    }
   ],
   "source": [
    "area(1,1)"
   ]
  },
  {
   "cell_type": "code",
   "execution_count": 12,
   "metadata": {},
   "outputs": [
    {
     "data": {
      "text/plain": [
       "4"
      ]
     },
     "execution_count": 12,
     "metadata": {},
     "output_type": "execute_result"
    }
   ],
   "source": [
    "area(2,2)"
   ]
  },
  {
   "cell_type": "code",
   "execution_count": 32,
   "metadata": {},
   "outputs": [
    {
     "name": "stdout",
     "output_type": "stream",
     "text": [
      "This software will create a sorted list of integer.\n",
      "Please enter your positive integers one at a time.\n",
      "Enter a value of 0 to exit program and display the list.\n",
      "1\n",
      "2\n",
      "3\n",
      "4\n",
      "5\n"
     ]
    }
   ],
   "source": [
    "##Exercise 104: Sorted Order\n",
    "\n",
    "print('This software will create a sorted list of integer.')\n",
    "print('Please enter your positive integers one at a time.')\n",
    "print('Enter a value of 0 to exit program and display the list.')\n",
    "\n",
    "myList = []\n",
    "i=1\n",
    "\n",
    "while i>0:\n",
    "    i=int(input('Input an input or 0 to quit:'))\n",
    "    myList.append(i)\n",
    "\n",
    "# myList = sorted(myList)\n",
    "myList.sort()\n",
    "myList.remove(0)\n",
    "for num in myList:\n",
    "    print(myList[num-1])"
   ]
  },
  {
   "cell_type": "code",
   "execution_count": null,
   "metadata": {},
   "outputs": [],
   "source": []
  },
  {
   "cell_type": "code",
   "execution_count": null,
   "metadata": {},
   "outputs": [],
   "source": []
  }
 ],
 "metadata": {
  "kernelspec": {
   "display_name": "Python 3",
   "language": "python",
   "name": "python3"
  },
  "language_info": {
   "codemirror_mode": {
    "name": "ipython",
    "version": 3
   },
   "file_extension": ".py",
   "mimetype": "text/x-python",
   "name": "python",
   "nbconvert_exporter": "python",
   "pygments_lexer": "ipython3",
   "version": "3.6.3"
  }
 },
 "nbformat": 4,
 "nbformat_minor": 2
}
