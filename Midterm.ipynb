{
 "cells": [
  {
   "cell_type": "code",
   "execution_count": 77,
   "metadata": {},
   "outputs": [],
   "source": [
    "import numpy as np\n",
    "import pandas as pd\n",
    "import seaborn as sn\n",
    "import scipy.stats as ss\n",
    "import matplotlib.pyplot as plt"
   ]
  },
  {
   "cell_type": "markdown",
   "metadata": {},
   "source": [
    "# Problem 1"
   ]
  },
  {
   "cell_type": "code",
   "execution_count": 78,
   "metadata": {},
   "outputs": [],
   "source": [
    "df = pd.read_csv('MOCK_DATA.csv')\n",
    "data = df.Production12 #replace X with your designated number on the exam sheet"
   ]
  },
  {
   "cell_type": "code",
   "execution_count": 79,
   "metadata": {},
   "outputs": [
    {
     "name": "stdout",
     "output_type": "stream",
     "text": [
      "512.867\n"
     ]
    }
   ],
   "source": [
    "X_ave=np.average(data)\n",
    "print(X_ave)"
   ]
  },
  {
   "cell_type": "code",
   "execution_count": 80,
   "metadata": {},
   "outputs": [
    {
     "name": "stdout",
     "output_type": "stream",
     "text": [
      "925.3866976976987\n"
     ]
    }
   ],
   "source": [
    "s_2=np.var(data,ddof=1)\n",
    "print(s_2)"
   ]
  },
  {
   "cell_type": "code",
   "execution_count": 81,
   "metadata": {},
   "outputs": [
    {
     "name": "stdout",
     "output_type": "stream",
     "text": [
      "30.42016925820267\n"
     ]
    }
   ],
   "source": [
    "s=np.std(data,ddof=1)\n",
    "print(s)"
   ]
  },
  {
   "cell_type": "code",
   "execution_count": 82,
   "metadata": {},
   "outputs": [
    {
     "name": "stdout",
     "output_type": "stream",
     "text": [
      "512.5\n"
     ]
    }
   ],
   "source": [
    "m=np.median(data)\n",
    "print(m)"
   ]
  },
  {
   "cell_type": "code",
   "execution_count": 83,
   "metadata": {},
   "outputs": [
    {
     "data": {
      "image/png": "[encoded data removed]",
      "text/plain": [
       "<matplotlib.figure.Figure at 0x1cc73e05c50>"
      ]
     },
     "metadata": {},
     "output_type": "display_data"
    }
   ],
   "source": [
    "plt.boxplot(data)\n",
    "plt.annotate('      Largest value within 1.5*IQR',[1,np.max(data)])\n",
    "plt.annotate('         Third Quartile',[1,np.percentile(data, 75)])\n",
    "plt.annotate('         First Quartile',[1,np.percentile(data, 25)])\n",
    "plt.annotate('         Median',[1,np.median(data)])\n",
    "plt.annotate('      Smallest value within 1.5*IQR',[1,np.min(data)])\n",
    "plt.show()"
   ]
  },
  {
   "cell_type": "markdown",
   "metadata": {},
   "source": [
    "# Problem 2"
   ]
  },
  {
   "cell_type": "code",
   "execution_count": 84,
   "metadata": {},
   "outputs": [
    {
     "name": "stdout",
     "output_type": "stream",
     "text": [
      "504.0\n"
     ]
    }
   ],
   "source": [
    "k = 3 #number of top producing wells\n",
    "n = 9 #number of wells\n",
    "perms = np.math.factorial(n)/np.math.factorial(n-k)\n",
    "print(perms)"
   ]
  },
  {
   "cell_type": "code",
   "execution_count": 85,
   "metadata": {},
   "outputs": [
    {
     "name": "stdout",
     "output_type": "stream",
     "text": [
      "84.0\n"
     ]
    }
   ],
   "source": [
    "combs = np.math.factorial(n)/(np.math.factorial(k)*np.math.factorial(n-k))\n",
    "print(combs)"
   ]
  },
  {
   "cell_type": "code",
   "execution_count": 86,
   "metadata": {},
   "outputs": [
    {
     "name": "stdout",
     "output_type": "stream",
     "text": [
      "11.11111111111111\n"
     ]
    }
   ],
   "source": [
    "n=1\n",
    "k=9\n",
    "prob=100*n/k\n",
    "print(prob)"
   ]
  },
  {
   "cell_type": "code",
   "execution_count": 87,
   "metadata": {},
   "outputs": [
    {
     "name": "stdout",
     "output_type": "stream",
     "text": [
      "33.333333333333336\n"
     ]
    }
   ],
   "source": [
    "n=3\n",
    "k=9\n",
    "prob=100*n/k\n",
    "print(prob)"
   ]
  },
  {
   "cell_type": "markdown",
   "metadata": {},
   "source": [
    "# Problem 4"
   ]
  },
  {
   "cell_type": "code",
   "execution_count": 88,
   "metadata": {},
   "outputs": [
    {
     "data": {
      "text/plain": [
       "(8.228432234251315, 8.3715677657486864)"
      ]
     },
     "execution_count": 88,
     "metadata": {},
     "output_type": "execute_result"
    }
   ],
   "source": [
    "n = 120\n",
    "X = 8.3\n",
    "sd = 0.4\n",
    "ss.norm.interval(.95, loc=X, scale=sd/np.sqrt(n))"
   ]
  },
  {
   "cell_type": "code",
   "execution_count": 89,
   "metadata": {},
   "outputs": [
    {
     "data": {
      "text/plain": [
       "(8.2059440124108978, 8.3940559875891037)"
      ]
     },
     "execution_count": 89,
     "metadata": {},
     "output_type": "execute_result"
    }
   ],
   "source": [
    "n = 120\n",
    "X = 8.3\n",
    "sd = 0.4\n",
    "ss.norm.interval(.99, loc=X, scale=sd/np.sqrt(n))"
   ]
  },
  {
   "cell_type": "code",
   "execution_count": 90,
   "metadata": {},
   "outputs": [
    {
     "data": {
      "text/plain": [
       "0.99999999999985789"
      ]
     },
     "execution_count": 90,
     "metadata": {},
     "output_type": "execute_result"
    }
   ],
   "source": [
    "ci = 8.57\n",
    "z_sig = ci - X\n",
    "z = z_sig*np.sqrt(n)/sd\n",
    "1-(1-ss.norm.cdf(z))*2"
   ]
  },
  {
   "cell_type": "code",
   "execution_count": 91,
   "metadata": {},
   "outputs": [
    {
     "data": {
      "text/plain": [
       "-0.99999999999985789"
      ]
     },
     "execution_count": 91,
     "metadata": {},
     "output_type": "execute_result"
    }
   ],
   "source": [
    "ci = 8.03\n",
    "z_sig = ci - X\n",
    "z = z_sig*np.sqrt(n)/sd\n",
    "1-(1-ss.norm.cdf(z))*2"
   ]
  },
  {
   "cell_type": "code",
   "execution_count": 92,
   "metadata": {},
   "outputs": [
    {
     "name": "stdout",
     "output_type": "stream",
     "text": [
      "126.0\n"
     ]
    }
   ],
   "source": [
    "z_sig = 0.07\n",
    "z = ss.norm.ppf(.975) \n",
    "n = (z*sd/z_sig)**2\n",
    "print(np.ceil(n)) "
   ]
  },
  {
   "cell_type": "code",
   "execution_count": 93,
   "metadata": {},
   "outputs": [
    {
     "name": "stdout",
     "output_type": "stream",
     "text": [
      "217.0\n"
     ]
    }
   ],
   "source": [
    "z_sig = 0.07\n",
    "z = ss.norm.ppf(.995) \n",
    "n = (z*sd/z_sig)**2\n",
    "print(np.ceil(n)) "
   ]
  },
  {
   "cell_type": "markdown",
   "metadata": {},
   "source": [
    "## Part B"
   ]
  },
  {
   "cell_type": "code",
   "execution_count": 94,
   "metadata": {},
   "outputs": [
    {
     "data": {
      "text/plain": [
       "array([ 0.41700602,  0.63061303])"
      ]
     },
     "execution_count": 94,
     "metadata": {},
     "output_type": "execute_result"
    }
   ],
   "source": [
    "n = 80\n",
    "X = 42\n",
    "\n",
    "def binom_CI(n,X,alpha):\n",
    "    n_hat = n+4\n",
    "    p_hat = (X+2) / n_hat\n",
    "    \n",
    "    z = ss.norm.ppf(1-alpha/2)\n",
    "    \n",
    "    ci = z*np.sqrt(p_hat*(1-p_hat)/n_hat)\n",
    "\n",
    "    return np.array([p_hat-ci, p_hat+ci])\n",
    "\n",
    "\n",
    "alpha = 1 - 0.95\n",
    "binom_CI(n,X,alpha)"
   ]
  },
  {
   "cell_type": "code",
   "execution_count": 95,
   "metadata": {},
   "outputs": [
    {
     "data": {
      "text/plain": [
       "array([ 0.4341772 ,  0.61344185])"
      ]
     },
     "execution_count": 95,
     "metadata": {},
     "output_type": "execute_result"
    }
   ],
   "source": [
    "alpha = 1 - 0.90\n",
    "binom_CI(n,X,alpha)"
   ]
  },
  {
   "cell_type": "markdown",
   "metadata": {},
   "source": [
    "# Problem 5"
   ]
  },
  {
   "cell_type": "code",
   "execution_count": 96,
   "metadata": {},
   "outputs": [],
   "source": [
    "x=np.array([13.1,13.3,12.9,12.8,13.2,13.3])"
   ]
  },
  {
   "cell_type": "code",
   "execution_count": 97,
   "metadata": {},
   "outputs": [
    {
     "data": {
      "text/plain": [
       "(12.879868522974609, 13.32013147702539)"
      ]
     },
     "execution_count": 97,
     "metadata": {},
     "output_type": "execute_result"
    }
   ],
   "source": [
    "n = len(x)\n",
    "mean = np.mean(x)\n",
    "sd = np.std(x)\n",
    "df = n-1\n",
    "alpha = 0.95\n",
    "ss.t.interval(alpha, df, mean, ss.sem(x))"
   ]
  },
  {
   "cell_type": "code",
   "execution_count": 98,
   "metadata": {},
   "outputs": [
    {
     "data": {
      "image/png": "[encoded data removed]",
      "text/plain": [
       "<matplotlib.figure.Figure at 0x1cc73e206d8>"
      ]
     },
     "metadata": {},
     "output_type": "display_data"
    }
   ],
   "source": [
    "plt.boxplot(x) ##see if 10.2ppg is outside\n",
    "plt.show()"
   ]
  },
  {
   "cell_type": "code",
   "execution_count": null,
   "metadata": {},
   "outputs": [],
   "source": []
  }
 ],
 "metadata": {
  "kernelspec": {
   "display_name": "Python 3",
   "language": "python",
   "name": "python3"
  },
  "language_info": {
   "codemirror_mode": {
    "name": "ipython",
    "version": 3
   },
   "file_extension": ".py",
   "mimetype": "text/x-python",
   "name": "python",
   "nbconvert_exporter": "python",
   "pygments_lexer": "ipython3",
   "version": "3.6.3"
  }
 },
 "nbformat": 4,
 "nbformat_minor": 2
}
